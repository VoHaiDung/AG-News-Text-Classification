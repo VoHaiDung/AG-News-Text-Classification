{
"nbformat": 4,
"nbformat_minor": 5,
"metadata": {
"kernelspec": {
"display_name": "Python 3",
"name": "python3",
"language": "python"
},
"language_info": {
"name": "python",
"version": "3.10"
}
},
"cells": [
{
"cell_type": "markdown",
"metadata": {},
"source": [
"# Training Visualization\n",
"Plot loss and accuracy curves for DeBERTa-LoRA and Longformer-LoRA.\n",
"\n",
"Prerequisite: Training logs saved as CSV in ‘outputs/logs/deberta_train_log.csv’ and ‘outputs/logs/longformer_train_log.csv’."
]
},
{
"cell_type": "code",
"execution_count": null,
"metadata": {},
"source": [
"import pandas as pd\n",
"import matplotlib.pyplot as plt\n",
"\n",
"# Load training logs\n",
"deberta_log = pd.read_csv('outputs/logs/deberta_train_log.csv')\n",
"longformer_log = pd.read_csv('outputs/logs/longformer_train_log.csv')\n",
"\n",
"# Show first few rows\n",
"print(deberta_log.head())\n",
"print(longformer_log.head())"
],
"outputs": []
},
{
"cell_type": "code",
"execution_count": null,
"metadata": {},
"source": [
"# Define plotting function\n",
"def plot_metrics(df, name):\n",
"    plt.figure(figsize=(8, 4))\n",
"    plt.plot(df['epoch'], df['train_loss'], label='train_loss')\n",
"    plt.plot(df['epoch'], df['eval_loss'], label='eval_loss')\n",
"    plt.plot(df['epoch'], df['eval_accuracy'], label='eval_accuracy')\n",
"    plt.title(f'{name} Training Metrics')\n",
"    plt.xlabel('Epoch')\n",
"    plt.ylabel('Value')\n",
"    plt.legend()\n",
"    plt.grid(True)\n",
"    plt.show()\n",
"\n",
"# Plot for each model\n",
"plot_metrics(deberta_log, 'DeBERTa-LoRA')\n",
"plot_metrics(longformer_log, 'Longformer-LoRA')"
],
"outputs": []
},
{
"cell_type": "code",
"execution_count": null,
"metadata": {},
"source": [
"# Display best evaluation accuracies\n",
"print('Best DeBERTa Accuracy:', deberta_log['eval_accuracy'].max())\n",
"print('Best Longformer Accuracy:', longformer_log['eval_accuracy'].max())"
],
"outputs": []
}
]
}
