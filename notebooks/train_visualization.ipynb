{
"nbformat": 4,
"nbformat\_minor": 5,
"metadata": {
"kernelspec": {
"display\_name": "Python 3",
"name": "python3",
"language": "python"
},
"language\_info": {
"name": "python",
"version": "3.10"
}
},
"cells": \[
{
"cell\_type": "markdown",
"metadata": {},
"source": \[
"# Training Visualization\n",
"Plot loss and accuracy curves for DeBERTa-LoRA and Longformer-LoRA.\n",
"\n",
"**Prerequisite:** Training logs saved as CSV in `outputs/logs/deberta_train_log.csv` and `outputs/logs/longformer_train_log.csv`."
]
},
{
"cell\_type": "code",
"execution\_count": null,
"metadata": {},
"source": \[
"import pandas as pd\n",
"import matplotlib.pyplot as plt\n",
"\n",
"# Load training logs\n",
"deberta\_log = pd.read\_csv('outputs/logs/deberta\_train\_log.csv')\n",
"longformer\_log = pd.read\_csv('outputs/logs/longformer\_train\_log.csv')\n",
"\n",
"deberta\_log.head(), longformer\_log.head()"
],
"outputs": \[]
},
{
"cell\_type": "code",
"execution\_count": null,
"metadata": {},
"source": \[
"# Define plotting function\n",
"def plot\_metrics(df, name):\n",
"    plt.figure(figsize=(8,4))\n",
"    plt.plot(df\['epoch'], df\['train\_loss'], label='train\_loss')\n",
"    plt.plot(df\['epoch'], df\['eval\_loss'], label='eval\_loss')\n",
"    plt.plot(df\['epoch'], df\['eval\_accuracy'], label='eval\_accuracy')\n",
"    plt.title(f'{name} Training Metrics')\n",
"    plt.xlabel('Epoch')\n",
"    plt.ylabel('Value')\n",
"    plt.legend()\n",
"    plt.grid(True)\n",
"    plt.show()\n",
"\n",
"# Plot DeBERTa metrics\n",
"plot\_metrics(deberta\_log, 'DeBERTa-LoRA')\n",
"# Plot Longformer metrics\n",
"plot\_metrics(longformer\_log, 'Longformer-LoRA')"
],
"outputs": \[]
},
{
"cell\_type": "code",
"execution\_count": null,
"metadata": {},
"source": \[
"# Display best evaluation accuracy\n",
"print('Best DeBERTa Accuracy:', deberta\_log\['eval\_accuracy'].max())\n",
"print('Best Longformer Accuracy:', longformer\_log\['eval\_accuracy'].max())"
],
"outputs": \[]
}
]
}
