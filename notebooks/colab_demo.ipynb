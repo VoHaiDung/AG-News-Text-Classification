{
"nbformat": 4,
"nbformat_minor": 5,
"metadata": {
"kernelspec": {
"display_name": "Python 3",
"language": "python",
"name": "python3"
},
"language_info": {
"name": "python",
"version": "3.10"
}
},
"cells": [
{
"cell_type": "markdown",
"metadata": {},
"source": [
"# Colab Demo: Full Pipeline\n",
"This notebook runs the complete AG News classification pipeline on Google Colab, from data preprocessing through inference.\n"
]
},
{
"cell_type": "code",
"execution_count": null,
"metadata": {},
"source": [
"# 1. Clone repository and install dependencies\n",
"!git clone https://github.com/VoHaiDung/ag-news-text-classification.git\n",
"%cd ag-news-text-classification\n",
"!pip install -r requirements.txt\n",
"!pip install -e ."
],
"outputs": []
},
{
"cell_type": "code",
"execution_count": null,
"metadata": {},
"source": [
"# 2. Preprocess data and run DAPT\n",
"!bash scripts/run_preprocess.sh\n",
"!bash scripts/run_pretrain_dapt.sh data/external/unlabeled.txt 3"
],
"outputs": []
},
{
"cell_type": "code",
"execution_count": null,
"metadata": {},
"source": [
"# 3. Train DeBERTa-LoRA and Longformer-LoRA\n",
"!bash scripts/run_train_deberta.sh\n",
"!bash scripts/run_train_longformer.sh"
],
"outputs": []
},
{
"cell_type": "code",
"execution_count": null,
"metadata": {},
"source": [
"# 4. Generate pseudo labels and ensemble\n",
"!bash scripts/run_pseudo_label.sh\n",
"!bash scripts/run_ensemble.sh"
],
"outputs": []
},
{
"cell_type": "code",
"execution_count": null,
"metadata": {},
"source": [
"# 5. Evaluate final model and display metrics\n",
"!bash scripts/run_cv.sh\n",
"!bash scripts/run_stack.sh"
],
"outputs": []
},
{
"cell_type": "markdown",
"metadata": {},
"source": [
"## Results\n",
"Check outputs/metrics for accuracy, precision, recall, F1.  ",
"All steps are designed to be reproducible."
]
}
]
}
