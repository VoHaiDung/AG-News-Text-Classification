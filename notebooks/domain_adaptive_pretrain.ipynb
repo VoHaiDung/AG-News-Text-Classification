{
"nbformat": 4,
"nbformat_minor": 5,
"metadata": {
"kernelspec": {
"display_name": "Python 3",
"name": "python3",
"language": "python"
},
"language_info": {
"name": "python",
"version": "3.10"
}
},
"cells": [
{
"cell_type": "markdown",
"metadata": {},
"source": [
"# Dataset Exploration\n",
"Explore distribution, examples, and text lengths of the AG News dataset.\n",
"\n",
"References: Xiang Zhang et al., 'Character-level Convolutional Networks for Text Classification' (2015)."
]
},
{
"cell_type": "code",
"execution_count": null,
"metadata": {},
"source": [
"from datasets import load_dataset\n",
"import pandas as pd\n",
"import matplotlib.pyplot as plt\n",
"\n",
"# Load AG News dataset\n",
"dataset = load_dataset('ag_news')\n",
"df = pd.DataFrame(dataset['train'])\n",
"\n",
"# Display first rows and label counts\n",
"df.head(), df['label'].value_counts()"
],
"outputs": []
},
{
"cell_type": "code",
"execution_count": null,
"metadata": {},
"source": [
"# Plot label distribution\n",
"df['label'].value_counts().sort_index().plot(kind='bar', title='AG News Label Distribution')\n",
"plt.xlabel('Label')\n",
"plt.ylabel('Count')\n",
"plt.show()"
],
"outputs": []
},
{
"cell_type": "code",
"execution_count": null,
"metadata": {},
"source": [
"# Compute and plot text length distribution\n",
"df['text_length'] = df['text'].apply(lambda x: len(x.split()))\n",
"df['text_length'].hist(bins=50)\n",
"plt.title('Text Length Distribution')\n",
"plt.xlabel('Number of Tokens')\n",
"plt.ylabel('Count')\n",
"plt.show()"
],
"outputs": []
}
]
}

