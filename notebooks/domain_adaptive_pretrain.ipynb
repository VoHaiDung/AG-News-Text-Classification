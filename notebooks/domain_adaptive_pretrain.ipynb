{
 "cells": [
  {
   "cell_type": "markdown",
   "metadata": {},
   "source": [
    "# Domain‑Adaptive Pretraining (DAPT)\n",
    "This notebook demonstrates how to continue masked‑language model pretraining for **DeBERTa‑v3‑large** on an unlabeled news corpus."
   ]
  },
  {
   "cell_type": "code",
   "metadata": {},
   "execution_count": null,
   "outputs": [],
   "source": [
    "# Install dependencies (Colab/first run only)\n",
    "!pip install -q transformers datasets accelerate peft"
   ]
  },
  {
   "cell_type": "code",
   "metadata": {},
   "execution_count": null,
   "outputs": [],
   "source": [
    "# (Optional) Mount Google Drive to save checkpoints\n",
    "# from google.colab import drive\n",
    "# drive.mount('/content/drive')"
   ]
  },
  {
   "cell_type": "code",
   "metadata": {},
   "execution_count": null,
   "outputs": [],
   "source": [
    "from src.pretrain_lm import run_dapt\n",
    "\n",
    "run_dapt(\n",
    "    model_name='microsoft/deberta-v3-large',\n",
    "    data_file='data/external/unlabeled.txt',\n",
    "    output_dir='outputs/dapt_checkpoints/',\n",
    "    num_train_epochs=3,\n    batch_size=4,  # Smaller batch for Colab\n    learning_rate=5e-5,\n)"
   ]
  },
  {
   "cell_type": "markdown",
   "metadata": {},
   "source": [
    "After training completes, the adapted checkpoint is saved to **`outputs/dapt_checkpoints/`**. You can now fine‑tune this checkpoint with LoRA by setting `model_name_or_path` to that directory in your training script."
   ]
  }
 ],
 "metadata": {
  "kernelspec": {
   "display_name": "Python 3",
   "language": "python",
   "name": "python3"
  },
  "language_info": {
   "name": "python",
   "version": "3.10"
  }
 },
 "nbformat": 4,
 "nbformat_minor": 2
}
